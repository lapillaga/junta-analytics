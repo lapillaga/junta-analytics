{
 "cells": [
  {
   "cell_type": "code",
   "execution_count": 1,
   "id": "986517ec-8300-4121-9ce5-c6ddfd07a462",
   "metadata": {},
   "outputs": [
    {
     "name": "stdout",
     "output_type": "stream",
     "text": [
      "========================================================================\n",
      "JUNTA ANALYTICS\n",
      "Fecha de ejecución: 2025-05-25 17:38\n",
      "========================================================================\n"
     ]
    }
   ],
   "source": [
    "import sys\n",
    "import os\n",
    "from datetime import datetime\n",
    "sys.path.append('..')\n",
    "\n",
    "import matplotlib.pyplot as plt\n",
    "import numpy as np\n",
    "import pandas as pd\n",
    "import seaborn as sns\n",
    "\n",
    "from ml_models.anomaly_detector import AnomalyDetector\n",
    "\n",
    "sns.set_palette(\"husl\")\n",
    "plt.style.use(\"seaborn-v0_8\")\n",
    "\n",
    "DATA_DIR = \"../data/processed\"\n",
    "MODELS_DIR = \"../data/models\"\n",
    "MODEL_NAME = \"anomaly_detector_v2.joblib\"\n",
    "os.makedirs(MODELS_DIR, exist_ok=True)\n",
    "\n",
    "print(\"=\"*72)\n",
    "print(\"JUNTA ANALYTICS\")\n",
    "print(f\"Fecha de ejecución: {datetime.now():%Y-%m-%d %H:%M}\")\n",
    "print(\"=\"*72)"
   ]
  },
  {
   "cell_type": "code",
   "execution_count": 2,
   "id": "85ff9b71-c3d4-4371-9ac5-947a5a3907f1",
   "metadata": {},
   "outputs": [
    {
     "name": "stdout",
     "output_type": "stream",
     "text": [
      "Lecturas individuales   : 10,067\n",
      "Registros clima+consumo : 29\n"
     ]
    }
   ],
   "source": [
    "# 2. Carga de datasets procesados\n",
    "individual_df = pd.read_csv(\n",
    "    os.path.join(DATA_DIR, \"individual_consumption.csv\"),\n",
    "    parse_dates=[\"created_at\", \"period_start\", \"period_end\"],\n",
    ")\n",
    "merged_df = pd.read_csv(\n",
    "    os.path.join(DATA_DIR, \"merged_rainfall_consumption.csv\"),\n",
    "    parse_dates=[\"period_dt\"],\n",
    ")\n",
    "merged_df[\"period_str\"] = merged_df[\"period_dt\"].dt.to_period(\"M\").astype(str)\n",
    "\n",
    "print(f\"Lecturas individuales   : {len(individual_df):,}\")\n",
    "print(f\"Registros clima+consumo : {len(merged_df):,}\")"
   ]
  },
  {
   "cell_type": "code",
   "execution_count": 3,
   "id": "5b4a48cd-6a43-43c8-a45c-5b824beaa4fb",
   "metadata": {},
   "outputs": [
    {
     "name": "stdout",
     "output_type": "stream",
     "text": [
      "Período entrenamiento: 2023-02-02 → 2025-02-01\n",
      "Filas de entrenamiento: 8,666\n"
     ]
    }
   ],
   "source": [
    "# 3. Selección de datos para entrenamiento\n",
    "cut_start = individual_df[\"period_start\"].quantile(0.10)\n",
    "cut_end   = individual_df[\"period_start\"].quantile(0.90)\n",
    "\n",
    "train_df = individual_df.query(\n",
    "    \"@cut_start <= period_start <= @cut_end\"\n",
    ").copy()\n",
    "\n",
    "# limpieza mínima\n",
    "train_df = train_df.dropna(subset=[\"total_consumed\", \"water_meter_id\"])\n",
    "train_df = train_df[train_df[\"total_consumed\"] >= 0]\n",
    "train_df[\"days_billed\"].fillna(30, inplace=True)\n",
    "\n",
    "print(f\"Período entrenamiento: {cut_start.date()} → {cut_end.date()}\")\n",
    "print(f\"Filas de entrenamiento: {len(train_df):,}\")"
   ]
  },
  {
   "cell_type": "code",
   "execution_count": 4,
   "id": "a317b55a-245b-4485-bfed-ad2271426899",
   "metadata": {},
   "outputs": [
    {
     "name": "stdout",
     "output_type": "stream",
     "text": [
      "\n",
      "Métricas de validación (con sintéticos):\n",
      "  precision : 0.3205\n",
      "  recall    : 0.3205\n",
      "  f1        : 0.3205\n",
      "  auc       : 0.7263\n",
      "  threshold : -0.0524\n"
     ]
    }
   ],
   "source": [
    "# 4. Entrenamiento con sintéticos (métricas)\n",
    "detector = AnomalyDetector(contamination=0.03, random_state=42)\n",
    "\n",
    "metrics_val = detector.train(\n",
    "    train_df,\n",
    "    climate_df=merged_df,\n",
    "    use_synthetic=True,    # se generan ±3 % filas extremas\n",
    ")\n",
    "\n",
    "print(\"\\nMétricas de validación (con sintéticos):\")\n",
    "for k, v in metrics_val.items():\n",
    "    print(f\"  {k:10}: {v:.4f}\" if isinstance(v, float) else f\"  {k:10}: {v}\")"
   ]
  },
  {
   "cell_type": "code",
   "execution_count": 5,
   "id": "5c1148d2-a614-4ca4-9db5-b5c6a953d21e",
   "metadata": {},
   "outputs": [
    {
     "name": "stdout",
     "output_type": "stream",
     "text": [
      "\n",
      "Modelo final guardado → ../data/models/anomaly_detector_v2.joblib\n"
     ]
    }
   ],
   "source": [
    "# 5 · Re-entrenamiento final sin sintéticos y guardado\n",
    "_ = detector.train(train_df, climate_df=merged_df, use_synthetic=False)\n",
    "\n",
    "model_path = os.path.join(MODELS_DIR, MODEL_NAME)\n",
    "detector.save(model_path)\n",
    "print(f\"\\nModelo final guardado → {model_path}\")"
   ]
  },
  {
   "cell_type": "code",
   "execution_count": 6,
   "id": "90a14268-0332-4f0c-bb45-83163f096808",
   "metadata": {},
   "outputs": [
    {
     "data": {
      "image/png": "[encoded data removed]",
      "text/plain": [
       "<Figure size 800x400 with 1 Axes>"
      ]
     },
     "metadata": {},
     "output_type": "display_data"
    }
   ],
   "source": [
    "# 6 · Histograma de puntuaciones (training)\n",
    "X_feats = detector._build_features(train_df)\n",
    "scores  = -detector.pipeline_.decision_function(X_feats)\n",
    "thr     = detector.score_threshold_\n",
    "\n",
    "plt.figure(figsize=(8, 4))\n",
    "plt.hist(scores, bins=60, alpha=0.7)\n",
    "plt.axvline(thr, color=\"red\", linestyle=\"--\", label=f\"P90 = {thr:.3f}\")\n",
    "plt.title(\"Distribución de puntuaciones (training)\")\n",
    "plt.xlabel(\"Score (más alto ⇒ más anómalo)\")\n",
    "plt.ylabel(\"Frecuencia\")\n",
    "plt.legend()\n",
    "plt.tight_layout()\n",
    "plt.show()"
   ]
  },
  {
   "cell_type": "code",
   "execution_count": 10,
   "id": "cb565053-1df3-40d4-9d73-463452d0c6a5",
   "metadata": {},
   "outputs": [
    {
     "name": "stdout",
     "output_type": "stream",
     "text": [
      "\n",
      "Predicción ejemplo: {'anomaly': [True], 'score': [0.0005579875074035456], 'confidence': [0.0]}\n"
     ]
    }
   ],
   "source": [
    "example = pd.DataFrame(\n",
    "    {\n",
    "        \"water_meter_id\": [train_df[\"water_meter_id\"].iloc[0]],\n",
    "        \"total_consumed\": [150],\n",
    "        \"days_billed\":   [30],\n",
    "        \"period_start\":  [datetime.now()],\n",
    "        \"neighborhood_id\": [\"X\"],\n",
    "    }\n",
    ")\n",
    "print(\"\\nPredicción ejemplo:\", detector.predict(example))"
   ]
  },
  {
   "cell_type": "code",
   "execution_count": null,
   "id": "7e9f1123-a117-4ff2-852c-1f467e881299",
   "metadata": {},
   "outputs": [],
   "source": []
  },
  {
   "cell_type": "code",
   "execution_count": null,
   "id": "5b9ca7d0-5e61-4d37-a263-3a1b834f4045",
   "metadata": {},
   "outputs": [],
   "source": []
  }
 ],
 "metadata": {
  "kernelspec": {
   "display_name": "Python 3 (ipykernel)",
   "language": "python",
   "name": "python3"
  },
  "language_info": {
   "codemirror_mode": {
    "name": "ipython",
    "version": 3
   },
   "file_extension": ".py",
   "mimetype": "text/x-python",
   "name": "python",
   "nbconvert_exporter": "python",
   "pygments_lexer": "ipython3",
   "version": "3.10.16"
  }
 },
 "nbformat": 4,
 "nbformat_minor": 5
}
